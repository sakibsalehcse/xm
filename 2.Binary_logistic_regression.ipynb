{
 "cells": [
  {
   "cell_type": "code",
   "execution_count": 150,
   "metadata": {},
   "outputs": [],
   "source": [
    "import numpy as np\n",
    "import matplotlib.pyplot as plt"
   ]
  },
  {
   "cell_type": "code",
   "execution_count": 151,
   "metadata": {},
   "outputs": [],
   "source": [
    "x,y=[10,20,30,40,50,60,70],[0,0,0,1,1,1,1]\n",
    "xarr=[]\n",
    "for i in x:\n",
    "    arr=[1,i]\n",
    "    xarr.append(arr)\n",
    "x=np.array(xarr)\n",
    "y=np.array(y)"
   ]
  },
  {
   "cell_type": "code",
   "execution_count": 152,
   "metadata": {},
   "outputs": [],
   "source": [
    "l,theta=0.1,[0,0]"
   ]
  },
  {
   "cell_type": "code",
   "execution_count": 154,
   "metadata": {},
   "outputs": [
    {
     "name": "stdout",
     "output_type": "stream",
     "text": [
      "[-22.392953036720776, 0.6440836962441856]\n"
     ]
    }
   ],
   "source": [
    "for i in range(9000):\n",
    "    z=np.dot(theta, x.T)\n",
    "    sig=(1/(1+np.exp(-z)))\n",
    "    y2=np.array(sig)\n",
    "    d=[0,0]\n",
    "    for i in range(len(x)):\n",
    "        d[0]+=((y[i]-y2[i])*x[i][0])\n",
    "        d[1]+=((y[i]-y2[i])*x[i][1])\n",
    "    d[0]=(1/len(x))*-1*d[0]\n",
    "    d[1]=(1/len(x))*-1*d[1]\n",
    "    theta[0]=theta[0]-(l*d[0])\n",
    "    theta[1]=theta[1]-(l*d[1])\n",
    "print(theta)    "
   ]
  },
  {
   "cell_type": "code",
   "execution_count": 155,
   "metadata": {},
   "outputs": [
    {
     "name": "stdout",
     "output_type": "stream",
     "text": [
      "[0. 0. 0. 1. 1. 1. 1.]\n"
     ]
    }
   ],
   "source": [
    "for i in range(len(y2)):\n",
    "    if(y2[i]>0.5):\n",
    "        y2[i]=1\n",
    "    else:\n",
    "        y2[i]=0\n",
    "print(y2)        "
   ]
  },
  {
   "cell_type": "code",
   "execution_count": null,
   "metadata": {},
   "outputs": [],
   "source": [
    "t_d=[1,80]\n",
    "t_d=np.(t_d)"
   ]
  },
  {
   "cell_type": "code",
   "execution_count": 157,
   "metadata": {},
   "outputs": [],
   "source": [
    "z=np.dot(theta, t_d.T)\n",
    "sig=(1/(1+np.exp(-z)))\n",
    "y3=np.array(sig)"
   ]
  },
  {
   "cell_type": "code",
   "execution_count": 158,
   "metadata": {},
   "outputs": [],
   "source": [
    "if(y3>0.5):\n",
    "    y3=1\n",
    "else:\n",
    "    y3=0"
   ]
  },
  {
   "cell_type": "code",
   "execution_count": 159,
   "metadata": {},
   "outputs": [
    {
     "name": "stdout",
     "output_type": "stream",
     "text": [
      "7\n"
     ]
    }
   ],
   "source": [
    "correct=0\n",
    "for i in range(len(x)):\n",
    "    if(y[i]==y2[i]):\n",
    "        correct+=1\n",
    "print(correct)        "
   ]
  },
  {
   "cell_type": "code",
   "execution_count": 160,
   "metadata": {},
   "outputs": [
    {
     "name": "stdout",
     "output_type": "stream",
     "text": [
      "100.0 %\n"
     ]
    }
   ],
   "source": [
    "accuracy=(correct/len(x))*100\n",
    "print(accuracy,\"%\")"
   ]
  },
  {
   "cell_type": "code",
   "execution_count": null,
   "metadata": {},
   "outputs": [],
   "source": []
  }
 ],
 "metadata": {
  "kernelspec": {
   "display_name": "Python 3",
   "language": "python",
   "name": "python3"
  },
  "language_info": {
   "codemirror_mode": {
    "name": "ipython",
    "version": 3
   },
   "file_extension": ".py",
   "mimetype": "text/x-python",
   "name": "python",
   "nbconvert_exporter": "python",
   "pygments_lexer": "ipython3",
   "version": "3.7.3"
  }
 },
 "nbformat": 4,
 "nbformat_minor": 2
}
